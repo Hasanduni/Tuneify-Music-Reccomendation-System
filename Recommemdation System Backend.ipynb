{
 "cells": [
  {
   "cell_type": "code",
   "execution_count": 1,
   "id": "cbbdbef8-3faf-4feb-9346-d39cf3751bed",
   "metadata": {},
   "outputs": [],
   "source": [
    "import pandas as pd\n",
    "import nltk\n",
    "from nltk.stem.porter import PorterStemmer\n",
    "from sklearn.feature_extraction.text import TfidfVectorizer\n",
    "from sklearn.metrics.pairwise import cosine_similarity\n",
    "from sklearn.model_selection import train_test_split\n",
    "from sklearn.metrics import accuracy_score, mean_squared_error,precision_score\n",
    "import pickle"
   ]
  },
  {
   "cell_type": "code",
   "execution_count": 2,
   "id": "5284baba-7193-44dd-bb07-c71aebcdd70d",
   "metadata": {},
   "outputs": [],
   "source": [
    "# Load dataset\n",
    "df = pd.read_csv(\"songs_data.csv\")"
   ]
  },
  {
   "cell_type": "code",
   "execution_count": 3,
   "id": "5b570883-18af-4e65-a3e8-248372fc8be1",
   "metadata": {},
   "outputs": [
    {
     "data": {
      "text/html": [
       "<div>\n",
       "<style scoped>\n",
       "    .dataframe tbody tr th:only-of-type {\n",
       "        vertical-align: middle;\n",
       "    }\n",
       "\n",
       "    .dataframe tbody tr th {\n",
       "        vertical-align: top;\n",
       "    }\n",
       "\n",
       "    .dataframe thead th {\n",
       "        text-align: right;\n",
       "    }\n",
       "</style>\n",
       "<table border=\"1\" class=\"dataframe\">\n",
       "  <thead>\n",
       "    <tr style=\"text-align: right;\">\n",
       "      <th></th>\n",
       "      <th>artist</th>\n",
       "      <th>song</th>\n",
       "      <th>link</th>\n",
       "      <th>text</th>\n",
       "      <th>Sentiment</th>\n",
       "      <th>Popularity</th>\n",
       "    </tr>\n",
       "  </thead>\n",
       "  <tbody>\n",
       "    <tr>\n",
       "      <th>0</th>\n",
       "      <td>ABBA</td>\n",
       "      <td>Ahe's My Kind Of Girl</td>\n",
       "      <td>/a/abba/ahes+my+kind+of+girl_20598417.html</td>\n",
       "      <td>Look at her face, it's a wonderful face  \\r\\nA...</td>\n",
       "      <td>0.447619</td>\n",
       "      <td>42</td>\n",
       "    </tr>\n",
       "    <tr>\n",
       "      <th>1</th>\n",
       "      <td>ABBA</td>\n",
       "      <td>Andante, Andante</td>\n",
       "      <td>/a/abba/andante+andante_20002708.html</td>\n",
       "      <td>Take it easy with me, please  \\r\\nTouch me gen...</td>\n",
       "      <td>0.202222</td>\n",
       "      <td>50</td>\n",
       "    </tr>\n",
       "    <tr>\n",
       "      <th>2</th>\n",
       "      <td>ABBA</td>\n",
       "      <td>As Good As New</td>\n",
       "      <td>/a/abba/as+good+as+new_20003033.html</td>\n",
       "      <td>I'll never know why I had to go  \\r\\nWhy I had...</td>\n",
       "      <td>0.300881</td>\n",
       "      <td>35</td>\n",
       "    </tr>\n",
       "    <tr>\n",
       "      <th>3</th>\n",
       "      <td>ABBA</td>\n",
       "      <td>Bang</td>\n",
       "      <td>/a/abba/bang_20598415.html</td>\n",
       "      <td>Making somebody happy is a question of give an...</td>\n",
       "      <td>0.355000</td>\n",
       "      <td>98</td>\n",
       "    </tr>\n",
       "    <tr>\n",
       "      <th>4</th>\n",
       "      <td>ABBA</td>\n",
       "      <td>Bang-A-Boomerang</td>\n",
       "      <td>/a/abba/bang+a+boomerang_20002668.html</td>\n",
       "      <td>Making somebody happy is a question of give an...</td>\n",
       "      <td>0.355000</td>\n",
       "      <td>86</td>\n",
       "    </tr>\n",
       "  </tbody>\n",
       "</table>\n",
       "</div>"
      ],
      "text/plain": [
       "  artist                   song                                        link  \\\n",
       "0   ABBA  Ahe's My Kind Of Girl  /a/abba/ahes+my+kind+of+girl_20598417.html   \n",
       "1   ABBA       Andante, Andante       /a/abba/andante+andante_20002708.html   \n",
       "2   ABBA         As Good As New        /a/abba/as+good+as+new_20003033.html   \n",
       "3   ABBA                   Bang                  /a/abba/bang_20598415.html   \n",
       "4   ABBA       Bang-A-Boomerang      /a/abba/bang+a+boomerang_20002668.html   \n",
       "\n",
       "                                                text  Sentiment  Popularity  \n",
       "0  Look at her face, it's a wonderful face  \\r\\nA...   0.447619          42  \n",
       "1  Take it easy with me, please  \\r\\nTouch me gen...   0.202222          50  \n",
       "2  I'll never know why I had to go  \\r\\nWhy I had...   0.300881          35  \n",
       "3  Making somebody happy is a question of give an...   0.355000          98  \n",
       "4  Making somebody happy is a question of give an...   0.355000          86  "
      ]
     },
     "execution_count": 3,
     "metadata": {},
     "output_type": "execute_result"
    }
   ],
   "source": [
    "df.head()"
   ]
  },
  {
   "cell_type": "code",
   "execution_count": 4,
   "id": "8bfe33ad-7dd4-4e3b-886a-e0e9f7513287",
   "metadata": {},
   "outputs": [
    {
     "data": {
      "text/html": [
       "<div>\n",
       "<style scoped>\n",
       "    .dataframe tbody tr th:only-of-type {\n",
       "        vertical-align: middle;\n",
       "    }\n",
       "\n",
       "    .dataframe tbody tr th {\n",
       "        vertical-align: top;\n",
       "    }\n",
       "\n",
       "    .dataframe thead th {\n",
       "        text-align: right;\n",
       "    }\n",
       "</style>\n",
       "<table border=\"1\" class=\"dataframe\">\n",
       "  <thead>\n",
       "    <tr style=\"text-align: right;\">\n",
       "      <th></th>\n",
       "      <th>artist</th>\n",
       "      <th>song</th>\n",
       "      <th>link</th>\n",
       "      <th>text</th>\n",
       "      <th>Sentiment</th>\n",
       "      <th>Popularity</th>\n",
       "    </tr>\n",
       "  </thead>\n",
       "  <tbody>\n",
       "    <tr>\n",
       "      <th>57645</th>\n",
       "      <td>Ziggy Marley</td>\n",
       "      <td>Good Old Days</td>\n",
       "      <td>/z/ziggy+marley/good+old+days_10198588.html</td>\n",
       "      <td>Irie days come on play  \\r\\nLet the angels fly...</td>\n",
       "      <td>0.358824</td>\n",
       "      <td>9</td>\n",
       "    </tr>\n",
       "    <tr>\n",
       "      <th>57646</th>\n",
       "      <td>Ziggy Marley</td>\n",
       "      <td>Hand To Mouth</td>\n",
       "      <td>/z/ziggy+marley/hand+to+mouth_20531167.html</td>\n",
       "      <td>Power to the workers  \\r\\nMore power  \\r\\nPowe...</td>\n",
       "      <td>-0.131289</td>\n",
       "      <td>36</td>\n",
       "    </tr>\n",
       "    <tr>\n",
       "      <th>57647</th>\n",
       "      <td>Zwan</td>\n",
       "      <td>Come With Me</td>\n",
       "      <td>/z/zwan/come+with+me_20148981.html</td>\n",
       "      <td>all you need  \\r\\nis something i'll believe  \\...</td>\n",
       "      <td>0.129481</td>\n",
       "      <td>61</td>\n",
       "    </tr>\n",
       "    <tr>\n",
       "      <th>57648</th>\n",
       "      <td>Zwan</td>\n",
       "      <td>Desire</td>\n",
       "      <td>/z/zwan/desire_20148986.html</td>\n",
       "      <td>northern star  \\r\\nam i frightened  \\r\\nwhere ...</td>\n",
       "      <td>0.320000</td>\n",
       "      <td>25</td>\n",
       "    </tr>\n",
       "    <tr>\n",
       "      <th>57649</th>\n",
       "      <td>Zwan</td>\n",
       "      <td>Heartsong</td>\n",
       "      <td>/z/zwan/heartsong_20148991.html</td>\n",
       "      <td>come in  \\r\\nmake yourself at home  \\r\\ni'm a ...</td>\n",
       "      <td>0.038304</td>\n",
       "      <td>65</td>\n",
       "    </tr>\n",
       "  </tbody>\n",
       "</table>\n",
       "</div>"
      ],
      "text/plain": [
       "             artist           song  \\\n",
       "57645  Ziggy Marley  Good Old Days   \n",
       "57646  Ziggy Marley  Hand To Mouth   \n",
       "57647          Zwan   Come With Me   \n",
       "57648          Zwan         Desire   \n",
       "57649          Zwan      Heartsong   \n",
       "\n",
       "                                              link  \\\n",
       "57645  /z/ziggy+marley/good+old+days_10198588.html   \n",
       "57646  /z/ziggy+marley/hand+to+mouth_20531167.html   \n",
       "57647           /z/zwan/come+with+me_20148981.html   \n",
       "57648                 /z/zwan/desire_20148986.html   \n",
       "57649              /z/zwan/heartsong_20148991.html   \n",
       "\n",
       "                                                    text  Sentiment  \\\n",
       "57645  Irie days come on play  \\r\\nLet the angels fly...   0.358824   \n",
       "57646  Power to the workers  \\r\\nMore power  \\r\\nPowe...  -0.131289   \n",
       "57647  all you need  \\r\\nis something i'll believe  \\...   0.129481   \n",
       "57648  northern star  \\r\\nam i frightened  \\r\\nwhere ...   0.320000   \n",
       "57649  come in  \\r\\nmake yourself at home  \\r\\ni'm a ...   0.038304   \n",
       "\n",
       "       Popularity  \n",
       "57645           9  \n",
       "57646          36  \n",
       "57647          61  \n",
       "57648          25  \n",
       "57649          65  "
      ]
     },
     "execution_count": 4,
     "metadata": {},
     "output_type": "execute_result"
    }
   ],
   "source": [
    "df.tail()"
   ]
  },
  {
   "cell_type": "code",
   "execution_count": 5,
   "id": "67b8c59f-5101-4121-9340-bf7dae5de9d9",
   "metadata": {},
   "outputs": [
    {
     "data": {
      "text/plain": [
       "(57650, 6)"
      ]
     },
     "execution_count": 5,
     "metadata": {},
     "output_type": "execute_result"
    }
   ],
   "source": [
    "df.shape"
   ]
  },
  {
   "cell_type": "code",
   "execution_count": 6,
   "id": "cdbc77c2-7b53-4d9f-8533-4a2885f60e93",
   "metadata": {},
   "outputs": [
    {
     "data": {
      "text/plain": [
       "artist        0\n",
       "song          0\n",
       "link          0\n",
       "text          0\n",
       "Sentiment     0\n",
       "Popularity    0\n",
       "dtype: int64"
      ]
     },
     "execution_count": 6,
     "metadata": {},
     "output_type": "execute_result"
    }
   ],
   "source": [
    "df.isnull().sum()"
   ]
  },
  {
   "cell_type": "code",
   "execution_count": 7,
   "id": "ed205ce7-2cfe-4c41-b2c3-998a5ba979c2",
   "metadata": {},
   "outputs": [],
   "source": [
    "df = df.sample(5000).drop('link', axis=1).reset_index(drop=True)"
   ]
  },
  {
   "cell_type": "code",
   "execution_count": 8,
   "id": "f5644c21-6807-4302-8c43-7188f4481318",
   "metadata": {},
   "outputs": [
    {
     "data": {
      "text/html": [
       "<div>\n",
       "<style scoped>\n",
       "    .dataframe tbody tr th:only-of-type {\n",
       "        vertical-align: middle;\n",
       "    }\n",
       "\n",
       "    .dataframe tbody tr th {\n",
       "        vertical-align: top;\n",
       "    }\n",
       "\n",
       "    .dataframe thead th {\n",
       "        text-align: right;\n",
       "    }\n",
       "</style>\n",
       "<table border=\"1\" class=\"dataframe\">\n",
       "  <thead>\n",
       "    <tr style=\"text-align: right;\">\n",
       "      <th></th>\n",
       "      <th>artist</th>\n",
       "      <th>song</th>\n",
       "      <th>text</th>\n",
       "      <th>Sentiment</th>\n",
       "      <th>Popularity</th>\n",
       "    </tr>\n",
       "  </thead>\n",
       "  <tbody>\n",
       "    <tr>\n",
       "      <th>0</th>\n",
       "      <td>Kirk Franklin</td>\n",
       "      <td>Without You</td>\n",
       "      <td>I can take a plane high up in the sky and fly ...</td>\n",
       "      <td>0.321467</td>\n",
       "      <td>95</td>\n",
       "    </tr>\n",
       "    <tr>\n",
       "      <th>1</th>\n",
       "      <td>Oingo Boingo</td>\n",
       "      <td>Sweat</td>\n",
       "      <td>Sweat!  \\r\\nSweat!  \\r\\nSweat!  \\r\\nBorn for t...</td>\n",
       "      <td>0.113915</td>\n",
       "      <td>12</td>\n",
       "    </tr>\n",
       "    <tr>\n",
       "      <th>2</th>\n",
       "      <td>Townes Van Zandt</td>\n",
       "      <td>My Proud Mountains</td>\n",
       "      <td>My home is Colorado  \\r\\nWith their proud moun...</td>\n",
       "      <td>0.076548</td>\n",
       "      <td>90</td>\n",
       "    </tr>\n",
       "    <tr>\n",
       "      <th>3</th>\n",
       "      <td>Judy Garland</td>\n",
       "      <td>The Trolley Song</td>\n",
       "      <td>With my high starched-collar and my high-toppe...</td>\n",
       "      <td>0.300256</td>\n",
       "      <td>19</td>\n",
       "    </tr>\n",
       "    <tr>\n",
       "      <th>4</th>\n",
       "      <td>Ella Fitzgerald</td>\n",
       "      <td>After You've Gone</td>\n",
       "      <td>After you've gone and left me crying  \\r\\nAfte...</td>\n",
       "      <td>-0.005357</td>\n",
       "      <td>82</td>\n",
       "    </tr>\n",
       "    <tr>\n",
       "      <th>5</th>\n",
       "      <td>Frank Zappa</td>\n",
       "      <td>Cucamonga</td>\n",
       "      <td>Frank zappa (lead guitar, vocals)  \\r\\nCaptain...</td>\n",
       "      <td>-0.010714</td>\n",
       "      <td>73</td>\n",
       "    </tr>\n",
       "    <tr>\n",
       "      <th>6</th>\n",
       "      <td>Lata Mangeshkar</td>\n",
       "      <td>Kaha The Aap</td>\n",
       "      <td>(Kaha the aap zamane ke baad aaye hai - 2  \\r\\...</td>\n",
       "      <td>-0.500000</td>\n",
       "      <td>38</td>\n",
       "    </tr>\n",
       "    <tr>\n",
       "      <th>7</th>\n",
       "      <td>Quicksilver Messenger Service</td>\n",
       "      <td>Gone Again</td>\n",
       "      <td>You ask me why my mind goes to wanderin',  \\r\\...</td>\n",
       "      <td>-0.047222</td>\n",
       "      <td>35</td>\n",
       "    </tr>\n",
       "    <tr>\n",
       "      <th>8</th>\n",
       "      <td>Hank Snow</td>\n",
       "      <td>In The Misty Moonlight</td>\n",
       "      <td>In the misty moonlight by the flickering firel...</td>\n",
       "      <td>0.193961</td>\n",
       "      <td>73</td>\n",
       "    </tr>\n",
       "    <tr>\n",
       "      <th>9</th>\n",
       "      <td>Who</td>\n",
       "      <td>Melancholia</td>\n",
       "      <td>My coffee's cold, my paper's old,  \\r\\nMy hear...</td>\n",
       "      <td>-0.272098</td>\n",
       "      <td>29</td>\n",
       "    </tr>\n",
       "  </tbody>\n",
       "</table>\n",
       "</div>"
      ],
      "text/plain": [
       "                          artist                    song  \\\n",
       "0                  Kirk Franklin             Without You   \n",
       "1                   Oingo Boingo                   Sweat   \n",
       "2               Townes Van Zandt      My Proud Mountains   \n",
       "3                   Judy Garland        The Trolley Song   \n",
       "4                Ella Fitzgerald       After You've Gone   \n",
       "5                    Frank Zappa               Cucamonga   \n",
       "6                Lata Mangeshkar            Kaha The Aap   \n",
       "7  Quicksilver Messenger Service              Gone Again   \n",
       "8                      Hank Snow  In The Misty Moonlight   \n",
       "9                            Who             Melancholia   \n",
       "\n",
       "                                                text  Sentiment  Popularity  \n",
       "0  I can take a plane high up in the sky and fly ...   0.321467          95  \n",
       "1  Sweat!  \\r\\nSweat!  \\r\\nSweat!  \\r\\nBorn for t...   0.113915          12  \n",
       "2  My home is Colorado  \\r\\nWith their proud moun...   0.076548          90  \n",
       "3  With my high starched-collar and my high-toppe...   0.300256          19  \n",
       "4  After you've gone and left me crying  \\r\\nAfte...  -0.005357          82  \n",
       "5  Frank zappa (lead guitar, vocals)  \\r\\nCaptain...  -0.010714          73  \n",
       "6  (Kaha the aap zamane ke baad aaye hai - 2  \\r\\...  -0.500000          38  \n",
       "7  You ask me why my mind goes to wanderin',  \\r\\...  -0.047222          35  \n",
       "8  In the misty moonlight by the flickering firel...   0.193961          73  \n",
       "9  My coffee's cold, my paper's old,  \\r\\nMy hear...  -0.272098          29  "
      ]
     },
     "execution_count": 8,
     "metadata": {},
     "output_type": "execute_result"
    }
   ],
   "source": [
    "df.head(10)"
   ]
  },
  {
   "cell_type": "code",
   "execution_count": 9,
   "id": "06c3b691-0ff5-4c77-b3be-49d2c8fc259e",
   "metadata": {},
   "outputs": [],
   "source": [
    "df['Combined'] = (\n",
    "    df['artist'] + ' - ' + df['song'] + ': ' + df['text'] )"
   ]
  },
  {
   "cell_type": "markdown",
   "id": "1b8a64bd-c535-400c-baaf-aba7d789ab06",
   "metadata": {},
   "source": [
    " Text Preprocessing"
   ]
  },
  {
   "cell_type": "code",
   "execution_count": 10,
   "id": "fffdde9b-dd9a-4c61-a36e-a10d461e8012",
   "metadata": {},
   "outputs": [],
   "source": [
    "# Lowercase the text and remove special characters\n",
    "df['Combined'] = df['Combined'].str.lower().replace(r'^\\w\\s', '').replace(r'\\n', ' ',regex = True)"
   ]
  },
  {
   "cell_type": "code",
   "execution_count": 11,
   "id": "f4e60446-79fb-4fc3-bd80-5122ce63c818",
   "metadata": {},
   "outputs": [],
   "source": [
    "# Stemming with NLTK\n",
    "stemmer = PorterStemmer()"
   ]
  },
  {
   "cell_type": "code",
   "execution_count": 12,
   "id": "51060d82-a3d3-4e04-beea-decf1a3dd71f",
   "metadata": {},
   "outputs": [],
   "source": [
    "# Tokenize function\n",
    "def token(Combined):\n",
    "    words = nltk.word_tokenize(Combined)\n",
    "    return \" \".join([stemmer.stem(word) for word in words])"
   ]
  },
  {
   "cell_type": "code",
   "execution_count": 13,
   "id": "d1f68d62-b879-492f-832e-6dc89139a673",
   "metadata": {},
   "outputs": [],
   "source": [
    "# Apply tokenization\n",
    "df['Combined'] = df['Combined'].apply(lambda x: token(x))"
   ]
  },
  {
   "cell_type": "markdown",
   "id": "8b2df3cf-dca8-4865-bb77-27babc484fee",
   "metadata": {},
   "source": [
    "### TF-IDF Vectorizer for textual content combination representation\n"
   ]
  },
  {
   "cell_type": "code",
   "execution_count": 14,
   "id": "e0c52987-fca6-4f0b-bd5f-ed5338850c96",
   "metadata": {},
   "outputs": [],
   "source": [
    "tfid = TfidfVectorizer(analyzer='word', stop_words='english')\n",
    "matrix = tfid.fit_transform(df['Combined'])"
   ]
  },
  {
   "cell_type": "code",
   "execution_count": 15,
   "id": "d5ce832c-8259-42d1-bf6c-8558c0e9a146",
   "metadata": {},
   "outputs": [],
   "source": [
    "# Cosine similarity matrix\n",
    "similar = cosine_similarity(matrix)"
   ]
  },
  {
   "cell_type": "code",
   "execution_count": 16,
   "id": "d0f19d41-5ead-4c08-995a-96d8e447dc18",
   "metadata": {},
   "outputs": [
    {
     "data": {
      "text/plain": [
       "array([[1.        , 0.02994381, 0.06957776, ..., 0.01320272, 0.00898276,\n",
       "        0.03832247],\n",
       "       [0.02994381, 1.        , 0.03488055, ..., 0.01556427, 0.00250492,\n",
       "        0.02597571],\n",
       "       [0.06957776, 0.03488055, 1.        , ..., 0.01590864, 0.01363007,\n",
       "        0.0251882 ],\n",
       "       ...,\n",
       "       [0.01320272, 0.01556427, 0.01590864, ..., 1.        , 0.00292292,\n",
       "        0.0332055 ],\n",
       "       [0.00898276, 0.00250492, 0.01363007, ..., 0.00292292, 1.        ,\n",
       "        0.00659274],\n",
       "       [0.03832247, 0.02597571, 0.0251882 , ..., 0.0332055 , 0.00659274,\n",
       "        1.        ]])"
      ]
     },
     "execution_count": 16,
     "metadata": {},
     "output_type": "execute_result"
    }
   ],
   "source": [
    "similar"
   ]
  },
  {
   "cell_type": "markdown",
   "id": "9fa2059c-d14b-4f44-a15e-35c9b511bc77",
   "metadata": {},
   "source": [
    "### Cosine similarity for numerical data\n"
   ]
  },
  {
   "cell_type": "code",
   "execution_count": 17,
   "id": "939a9f5a-0de6-475a-8425-90f4ac2058e7",
   "metadata": {},
   "outputs": [],
   "source": [
    "from sklearn.preprocessing import MinMaxScaler\n",
    "import numpy as np"
   ]
  },
  {
   "cell_type": "code",
   "execution_count": 18,
   "id": "7b870f44-f76f-4b05-bb0b-96f0db9b04a0",
   "metadata": {},
   "outputs": [],
   "source": [
    "#Numerical features\n",
    "numerical_features = df[['Sentiment', 'Popularity']]"
   ]
  },
  {
   "cell_type": "code",
   "execution_count": 19,
   "id": "4b97f818-b9be-4b76-ab5a-eeb16f94ee0b",
   "metadata": {},
   "outputs": [],
   "source": [
    "# Normalize the numerical features\n",
    "scaler = MinMaxScaler()\n",
    "normalized_numerical = scaler.fit_transform(numerical_features)\n"
   ]
  },
  {
   "cell_type": "code",
   "execution_count": 20,
   "id": "0acaa92b-f589-43a7-8938-7777407ef2a3",
   "metadata": {},
   "outputs": [],
   "source": [
    "numerical_similarity = cosine_similarity(normalized_numerical)\n"
   ]
  },
  {
   "cell_type": "code",
   "execution_count": 21,
   "id": "8d573747-57ea-42e4-8e11-c6e3c529512c",
   "metadata": {},
   "outputs": [
    {
     "data": {
      "text/plain": [
       "array([[1.        , 0.74185858, 0.9974706 , ..., 0.9873318 , 0.99807638,\n",
       "        0.74091785],\n",
       "       [0.74185858, 1.        , 0.69231881, ..., 0.83885723, 0.78200349,\n",
       "        0.99999902],\n",
       "       [0.9974706 , 0.69231881, 1.        , ..., 0.97355619, 0.99114514,\n",
       "        0.69130658],\n",
       "       ...,\n",
       "       [0.9873318 , 0.83885723, 0.97355619, ..., 1.        , 0.99526944,\n",
       "        0.83809331],\n",
       "       [0.99807638, 0.78200349, 0.99114514, ..., 0.99526944, 1.        ,\n",
       "        0.781129  ],\n",
       "       [0.74091785, 0.99999902, 0.69130658, ..., 0.83809331, 0.781129  ,\n",
       "        1.        ]])"
      ]
     },
     "execution_count": 21,
     "metadata": {},
     "output_type": "execute_result"
    }
   ],
   "source": [
    "numerical_similarity"
   ]
  },
  {
   "cell_type": "markdown",
   "id": "f6437db4-975f-4ce0-877f-2c8226636d25",
   "metadata": {},
   "source": [
    "### Combine the textual and numerical cosine similarities (by averaging)\n"
   ]
  },
  {
   "cell_type": "code",
   "execution_count": 36,
   "id": "caa1dcb8-4f38-47b1-952c-5ac921611658",
   "metadata": {},
   "outputs": [],
   "source": [
    "combined_cosine_sim = (numerical_similarity + similar) / 2"
   ]
  },
  {
   "cell_type": "code",
   "execution_count": 37,
   "id": "54a78836-bb15-4a1c-969b-9d1460532b10",
   "metadata": {},
   "outputs": [],
   "source": [
    "similar=combined_cosine_sim"
   ]
  },
  {
   "cell_type": "code",
   "execution_count": 38,
   "id": "8e0592f3-598f-4977-a364-f0499a376ce9",
   "metadata": {},
   "outputs": [
    {
     "data": {
      "text/plain": [
       "array([[1.        , 0.56387989, 0.76549739, ..., 0.74379953, 0.75080298,\n",
       "        0.565269  ],\n",
       "       [0.56387989, 1.        , 0.52795925, ..., 0.63303399, 0.58712885,\n",
       "        0.75649319],\n",
       "       [0.76549739, 0.52795925, 1.        , ..., 0.7341443 , 0.74676638,\n",
       "        0.52477699],\n",
       "       ...,\n",
       "       [0.74379953, 0.63303399, 0.7341443 , ..., 1.        , 0.74718281,\n",
       "        0.63687136],\n",
       "       [0.75080298, 0.58712885, 0.74676638, ..., 0.74718281, 1.        ,\n",
       "        0.58749493],\n",
       "       [0.565269  , 0.75649319, 0.52477699, ..., 0.63687136, 0.58749493,\n",
       "        1.        ]])"
      ]
     },
     "execution_count": 38,
     "metadata": {},
     "output_type": "execute_result"
    }
   ],
   "source": [
    "similar"
   ]
  },
  {
   "cell_type": "markdown",
   "id": "09750d07-a166-4106-86e3-6d2c387e19aa",
   "metadata": {},
   "source": [
    "### Recommender Function"
   ]
  },
  {
   "cell_type": "code",
   "execution_count": 25,
   "id": "d708e7ce-e945-4185-a727-538d5988b9c9",
   "metadata": {},
   "outputs": [],
   "source": [
    "def recommender(song_name):\n",
    "    # Check if the song exists in the dataset\n",
    "    if song_name not in df['song'].values:\n",
    "        return f\"Song '{song_name}' not found in the dataset.\"\n",
    "    \n",
    "    # Get the index of the song\n",
    "    idx = df[df['song'] == song_name].index[0]\n",
    "    \n",
    "    # Calculate the similarity distances for the song\n",
    "    distance = sorted(list(enumerate(similar[idx])), reverse=True, key=lambda x: x[1])\n",
    "    \n",
    "    # Recommend top 4 similar songs\n",
    "    song_recommendations = []\n",
    "    for s_id in distance[1:5]:  # Exclude the first one (it's the same song)\n",
    "        song_recommendations.append(df.iloc[s_id[0]].song)\n",
    "    \n",
    "    return song_recommendations"
   ]
  },
  {
   "cell_type": "code",
   "execution_count": 27,
   "id": "4e9fedf9-517f-4813-90c5-341eecf8f8c3",
   "metadata": {},
   "outputs": [
    {
     "name": "stdout",
     "output_type": "stream",
     "text": [
      "['If You Walked Away', 'Lost', 'Child Of Mine', 'My Guitar Lies Bleeding In My Arms']\n"
     ]
    }
   ],
   "source": [
    "print(recommender(\"Without You\"))"
   ]
  },
  {
   "cell_type": "code",
   "execution_count": 29,
   "id": "4a6ce930-d38a-4df5-ae86-9807fd6c2d47",
   "metadata": {},
   "outputs": [
    {
     "name": "stdout",
     "output_type": "stream",
     "text": [
      "['Mountain Woman', 'The Bear Went Over The Mountain', 'How Long, How Long Blues', 'Go Tell It On The Mountain']\n"
     ]
    }
   ],
   "source": [
    "# Test the recommender system\n",
    "print(recommender(\"My Proud Mountains\"))"
   ]
  },
  {
   "cell_type": "code",
   "execution_count": 30,
   "id": "0cd9f267-e606-43cb-a3cc-4283262182c0",
   "metadata": {},
   "outputs": [],
   "source": [
    "pickle.dump(similar,open('similarity.pkl','wb'))\n",
    "pickle.dump(df,open('df.pkl','wb'))"
   ]
  },
  {
   "cell_type": "code",
   "execution_count": 31,
   "id": "d1e6c8c9-c1af-4b41-a4e4-9d17ca98fe78",
   "metadata": {},
   "outputs": [],
   "source": [
    "# Load saved models (for testing purposes)\n",
    "loaded_similarity = pickle.load(open(\"similarity.pkl\", \"rb\"))\n",
    "loaded_df = pickle.load(open(\"df.pkl\", \"rb\"))"
   ]
  },
  {
   "cell_type": "markdown",
   "id": "d4eb067f-db9f-460b-94de-aa2031a9bf83",
   "metadata": {},
   "source": [
    "### Evaluation Using MAP"
   ]
  },
  {
   "cell_type": "code",
   "execution_count": 32,
   "id": "690cc658-f641-4716-b9e9-e357e9cbc4cf",
   "metadata": {},
   "outputs": [],
   "source": [
    "def get_relevant_songs(song_name, top_n=5):\n",
    "    \n",
    "    #Get the top N most similar songs as the relevant set.\n",
    "    \n",
    "    if song_name not in df['song'].values:\n",
    "        return []\n",
    "    \n",
    "    # Get the index of the song\n",
    "    idx = df[df['song'] == song_name].index[0]\n",
    "    \n",
    "    # Calculate the similarity distances for the song\n",
    "    distance = sorted(list(enumerate(similar[idx])), reverse=True, key=lambda x: x[1])\n",
    "    \n",
    "    # Top N relevant songs (excluding the song itself)\n",
    "    relevant_songs = [df.iloc[s_id[0]].song for s_id in distance[1:top_n+1]]\n",
    "    \n",
    "    return set(relevant_songs)\n"
   ]
  },
  {
   "cell_type": "markdown",
   "id": "bee4dd72-f837-44c8-a2fa-e7d363f1af56",
   "metadata": {},
   "source": [
    "\n",
    "    Calculate Average Precision for one recommendation query.\n",
    "    recommended_songs: List of recommended songs.\n",
    "    relevant_songs: Set of relevant songs (derived from similarity).\n",
    "    "
   ]
  },
  {
   "cell_type": "code",
   "execution_count": 33,
   "id": "792614cb-11f9-4383-839c-9db3100d6df3",
   "metadata": {},
   "outputs": [],
   "source": [
    "def average_precision(recommended_songs, relevant_songs):\n",
    "    \n",
    "    hits = 0\n",
    "    precision_at_k = []\n",
    "    \n",
    "    for i, song in enumerate(recommended_songs):\n",
    "        if song in relevant_songs:\n",
    "            hits += 1\n",
    "            precision_at_k.append(hits / (i + 1))  # Precision at rank k\n",
    "    \n",
    "    if not precision_at_k:\n",
    "        return 0.0\n",
    "    \n",
    "    return sum(precision_at_k) / len(relevant_songs)\n"
   ]
  },
  {
   "cell_type": "markdown",
   "id": "17eb00cc-6f27-4933-afdb-c3ad4e53513b",
   "metadata": {},
   "source": [
    "Calculate Mean Average Precision (MAP) for multiple queries.\n",
    "all_recommendations: List of lists, where each sublist is a recommendation for one query.\n",
    "    "
   ]
  },
  {
   "cell_type": "code",
   "execution_count": 34,
   "id": "326f05c3-108b-4e6b-82da-ad820e692b97",
   "metadata": {},
   "outputs": [
    {
     "name": "stdout",
     "output_type": "stream",
     "text": [
      "Mean Average Precision of Tuneify (MAP): 0.8105\n"
     ]
    }
   ],
   "source": [
    "def mean_average_precision(all_recommendations):\n",
    "    avg_precisions = []\n",
    "    \n",
    "    for song_name in df['song'].values:  # Iterate over all songs\n",
    "        relevant_songs = get_relevant_songs(song_name)  # Get relevant songs for the query\n",
    "        recommended_songs = recommender(song_name)  # Get recommendations for the query\n",
    "        \n",
    "        # Calculate average precision for this song\n",
    "        avg_prec = average_precision(recommended_songs, relevant_songs)\n",
    "        avg_precisions.append(avg_prec)\n",
    "    \n",
    "    return sum(avg_precisions) / len(avg_precisions)\n",
    "\n",
    "# Calculate MAP\n",
    "map_score = mean_average_precision(df['song'].values)\n",
    "print(f\"Mean Average Precision of Tuneify (MAP): {map_score:.4f}\")\n"
   ]
  },
  {
   "cell_type": "code",
   "execution_count": null,
   "id": "2a6f8f6f-e05f-4aeb-ad2c-221572caa391",
   "metadata": {},
   "outputs": [],
   "source": []
  }
 ],
 "metadata": {
  "kernelspec": {
   "display_name": "Python 3 (ipykernel)",
   "language": "python",
   "name": "python3"
  },
  "language_info": {
   "codemirror_mode": {
    "name": "ipython",
    "version": 3
   },
   "file_extension": ".py",
   "mimetype": "text/x-python",
   "name": "python",
   "nbconvert_exporter": "python",
   "pygments_lexer": "ipython3",
   "version": "3.12.4"
  }
 },
 "nbformat": 4,
 "nbformat_minor": 5
}
